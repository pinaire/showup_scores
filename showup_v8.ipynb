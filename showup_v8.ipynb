{
 "cells": [
  {
   "cell_type": "code",
   "execution_count": 3,
   "id": "3b37572a",
   "metadata": {},
   "outputs": [],
   "source": [
    "#the last version used multiple files of weekly scores\n",
    "#this version uses a single file with week rows\n",
    "\n",
    "#a player's showup score is the integer total of games during \n",
    "#selected seasons in which they performed at or beyond a threshold\n",
    "\n",
    "import pandas as pd\n",
    "import numpy as np\n",
    "import seaborn as sns\n",
    "\n",
    "datafile=''\n",
    "\n",
    "#takes table of game performance point totals (index - player, columns - week)\n",
    "df=pd.read_csv(datafile)\n",
    "\n",
    "daply=[]\n",
    "dapts=[]\n",
    "cnt=0\n",
    "ptthr=18\n",
    "for index, playperf in df.iterrows():\n",
    "    \n",
    "    player=playperf[1:4]\n",
    "    daply.append(player)\n",
    "    pts=playperf[4:22]\n",
    "    pts=[0 if pt=='NaN' else pt for pt in pts]\n",
    "    pts=[0 if pt=='BYE' else pt for pt in pts]\n",
    "    pts=[0 if pt=='-' else pt for pt in pts]\n",
    "    pts=[1 if float(pt)>=ptthr else 0 for pt in pts]\n",
    "    pts.append(sum(pts))\n",
    "    dapts.append(pts)\n",
    "\n",
    "players=pd.DataFrame(daply)\n",
    "scores=pd.DataFrame(dapts)\n",
    "data=pd.concat([players,scores], axis=1)\n",
    "data=data.rename(columns={18 : 'Total'})\n",
    "data=data.sort_values(by='Total',ascending=False)\n",
    "\n",
    "with pd.ExcelWriter(r'C:\\Users\\pinai\\Fantasy\\showup\\showup2023_'+str(ptthr)+'.xlsx',engine='openpyxl') as writer:\n",
    "    data.to_excel(writer, sheet_name='showup2023')\n"
   ]
  },
  {
   "cell_type": "code",
   "execution_count": null,
   "id": "3f0df96a",
   "metadata": {},
   "outputs": [],
   "source": []
  }
 ],
 "metadata": {
  "kernelspec": {
   "display_name": "Python 3 (ipykernel)",
   "language": "python",
   "name": "python3"
  },
  "language_info": {
   "codemirror_mode": {
    "name": "ipython",
    "version": 3
   },
   "file_extension": ".py",
   "mimetype": "text/x-python",
   "name": "python",
   "nbconvert_exporter": "python",
   "pygments_lexer": "ipython3",
   "version": "3.9.18"
  }
 },
 "nbformat": 4,
 "nbformat_minor": 5
}
